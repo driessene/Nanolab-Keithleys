{
 "cells": [
  {
   "cell_type": "markdown",
   "id": "65bd52e0",
   "metadata": {},
   "source": [
    "### initiate imports"
   ]
  },
  {
   "cell_type": "code",
   "execution_count": 1,
   "id": "1ad41b7a",
   "metadata": {},
   "outputs": [
    {
     "name": "stderr",
     "output_type": "stream",
     "text": [
      "C:\\Users\\2020e\\PycharmProjects\\UW-Platteville-Nanolab-Keithley\\procedures.py:5: TqdmExperimentalWarning: Using `tqdm.autonotebook.tqdm` in notebook mode. Use `tqdm.tqdm` instead to force console mode (e.g. in jupyter console)\n",
      "  from tqdm.autonotebook import tqdm\n"
     ]
    }
   ],
   "source": [
    "import data_analysis as da\n",
    "import procedures as pro\n",
    "from pathlib import Path\n",
    "from time import sleep"
   ]
  },
  {
   "cell_type": "markdown",
   "id": "e410d91e",
   "metadata": {},
   "source": [
    "### set data folder"
   ]
  },
  {
   "cell_type": "code",
   "execution_count": 2,
   "id": "edbfbf89",
   "metadata": {},
   "outputs": [],
   "source": [
    "data_folder = Path('C:/Users/2020e/Desktop/cnt/picoamp data/2/4/gated')"
   ]
  },
  {
   "cell_type": "markdown",
   "id": "46665fbd",
   "metadata": {},
   "source": [
    "# procedures\n",
    "## Sweep"
   ]
  },
  {
   "cell_type": "code",
   "execution_count": null,
   "id": "04857e25",
   "metadata": {},
   "outputs": [],
   "source": [
    "experiment = pro.Sweep(\n",
    "    address='PRIMARY',\n",
    "    start=-0.5,\n",
    "    end=0.5,\n",
    "    measurements=51,\n",
    "    max_current=0.001,\n",
    "    samples=50,\n",
    "    nplc=1,\n",
    "    soak=2,\n",
    "    azero=False,\n",
    "    )\n",
    "print(f'this experiment will take: {experiment.duration()}')"
   ]
  },
  {
   "cell_type": "markdown",
   "id": "99cc2e68",
   "metadata": {},
   "source": [
    "## Dual Sweep"
   ]
  },
  {
   "cell_type": "code",
   "execution_count": null,
   "id": "e58f6398",
   "metadata": {},
   "outputs": [],
   "source": [
    "experiment = pro.DualSweep(\n",
    "    primary_address='PRIMARY',\n",
    "    secondary_address='SECONDARY',\n",
    "    primary_start=-0.5,\n",
    "    primary_end=0.5,\n",
    "    primary_measurements=51,\n",
    "    secondary_start=-2,\n",
    "    secondary_end=2,\n",
    "    secondary_measurements=50,\n",
    "    primary_max_current=0.001,\n",
    "    secondary_max_current=0.001,\n",
    "    samples=10,\n",
    "    nplc=0.1,\n",
    "    soak=1,\n",
    "    azero=False\n",
    ")\n",
    "\n",
    "print(f'this experiment will take: {experiment.duration()}')"
   ]
  },
  {
   "cell_type": "markdown",
   "id": "fdf686d5",
   "metadata": {},
   "source": [
    "## Picoammeter Sweep"
   ]
  },
  {
   "cell_type": "code",
   "execution_count": null,
   "id": "12ebc7b8",
   "metadata": {},
   "outputs": [],
   "source": [
    "experiment = pro.PicoSweep(\n",
    "    voltmeter_address='PRIMARY',\n",
    "    ammeter_address='AMMETER',\n",
    "    start=-0.5,\n",
    "    end=0.5,\n",
    "    measurements=51,\n",
    "    samples=200,\n",
    "    nplc=2,\n",
    "    soak=2,\n",
    "    azero=False\n",
    ")\n",
    "\n",
    "print(f'this experiment will take: {experiment.duration()}')"
   ]
  },
  {
   "cell_type": "markdown",
   "id": "2828c3b2",
   "metadata": {},
   "source": [
    "## Picoammeter Dual Sweep"
   ]
  },
  {
   "cell_type": "code",
   "execution_count": null,
   "id": "f4e08493",
   "metadata": {},
   "outputs": [],
   "source": [
    "experiment = pro.PicoDualSweep(\n",
    "    primary_address='PRIMARY',\n",
    "    secondary_address='SECONDARY',\n",
    "    ammeter_address='AMMETER',\n",
    "    primary_start=-0.5,\n",
    "    primary_end=0.5,\n",
    "    primary_measurements=51,\n",
    "    secondary_start=-5,\n",
    "    secondary_end=5,\n",
    "    secondary_measurements=51,\n",
    "    secondary_max_current=0.1,\n",
    "    samples=100,\n",
    "    nplc=1,\n",
    "    soak=2,\n",
    "    azero=False\n",
    ")\n",
    "\n",
    "print(f'this experiment will take: {experiment.duration()}')"
   ]
  },
  {
   "cell_type": "markdown",
   "id": "272b8801",
   "metadata": {},
   "source": [
    "## Execute sweep"
   ]
  },
  {
   "cell_type": "code",
   "execution_count": null,
   "id": "fcf63e99",
   "metadata": {},
   "outputs": [],
   "source": [
    "out = experiment.execute()"
   ]
  },
  {
   "cell_type": "markdown",
   "id": "d7ac3cbb",
   "metadata": {},
   "source": [
    "# Analyze Sweep\n",
    "### from existing variable"
   ]
  },
  {
   "cell_type": "code",
   "execution_count": null,
   "id": "373dfe30",
   "metadata": {},
   "outputs": [],
   "source": [
    "analysis = da.Analysis(out)"
   ]
  },
  {
   "cell_type": "markdown",
   "id": "3c3dcefd",
   "metadata": {},
   "source": [
    "### read previous sweep"
   ]
  },
  {
   "cell_type": "code",
   "execution_count": 3,
   "id": "62b6ff71",
   "metadata": {},
   "outputs": [],
   "source": [
    "analysis = da.Analysis(data_folder / 'output(2).parquet')"
   ]
  },
  {
   "cell_type": "markdown",
   "id": "d85e9c38",
   "metadata": {},
   "source": [
    "### zero data if needed"
   ]
  },
  {
   "cell_type": "code",
   "execution_count": 4,
   "id": "b746634d",
   "metadata": {},
   "outputs": [
    {
     "data": {
      "text/html": [
       "<div>\n",
       "<style scoped>\n",
       "    .dataframe tbody tr th:only-of-type {\n",
       "        vertical-align: middle;\n",
       "    }\n",
       "\n",
       "    .dataframe tbody tr th {\n",
       "        vertical-align: top;\n",
       "    }\n",
       "\n",
       "    .dataframe thead th {\n",
       "        text-align: right;\n",
       "    }\n",
       "</style>\n",
       "<table border=\"1\" class=\"dataframe\">\n",
       "  <thead>\n",
       "    <tr style=\"text-align: right;\">\n",
       "      <th></th>\n",
       "      <th>voltage</th>\n",
       "      <th>secondary voltage</th>\n",
       "      <th>voltage sd</th>\n",
       "      <th>current</th>\n",
       "      <th>current sd</th>\n",
       "      <th>secondary voltage sd</th>\n",
       "      <th>secondary current</th>\n",
       "      <th>secondary current sd</th>\n",
       "    </tr>\n",
       "  </thead>\n",
       "  <tbody>\n",
       "    <tr>\n",
       "      <th>0</th>\n",
       "      <td>-0.5</td>\n",
       "      <td>-5.0</td>\n",
       "      <td>None</td>\n",
       "      <td>9.219635e-11</td>\n",
       "      <td>4.389127e-11</td>\n",
       "      <td>None</td>\n",
       "      <td>-1.633043e-10</td>\n",
       "      <td>2.446024e-10</td>\n",
       "    </tr>\n",
       "    <tr>\n",
       "      <th>1</th>\n",
       "      <td>-0.5</td>\n",
       "      <td>-4.8</td>\n",
       "      <td>None</td>\n",
       "      <td>6.192835e-11</td>\n",
       "      <td>4.350752e-11</td>\n",
       "      <td>None</td>\n",
       "      <td>-1.149374e-10</td>\n",
       "      <td>1.086787e-11</td>\n",
       "    </tr>\n",
       "    <tr>\n",
       "      <th>2</th>\n",
       "      <td>-0.5</td>\n",
       "      <td>-4.6</td>\n",
       "      <td>None</td>\n",
       "      <td>7.065955e-11</td>\n",
       "      <td>4.511022e-11</td>\n",
       "      <td>None</td>\n",
       "      <td>-1.118190e-10</td>\n",
       "      <td>1.949572e-11</td>\n",
       "    </tr>\n",
       "    <tr>\n",
       "      <th>3</th>\n",
       "      <td>-0.5</td>\n",
       "      <td>-4.4</td>\n",
       "      <td>None</td>\n",
       "      <td>6.687605e-11</td>\n",
       "      <td>4.340416e-11</td>\n",
       "      <td>None</td>\n",
       "      <td>-1.122760e-10</td>\n",
       "      <td>1.128309e-11</td>\n",
       "    </tr>\n",
       "    <tr>\n",
       "      <th>4</th>\n",
       "      <td>-0.5</td>\n",
       "      <td>-4.2</td>\n",
       "      <td>None</td>\n",
       "      <td>7.124165e-11</td>\n",
       "      <td>4.255312e-11</td>\n",
       "      <td>None</td>\n",
       "      <td>-2.110266e-10</td>\n",
       "      <td>2.252820e-10</td>\n",
       "    </tr>\n",
       "    <tr>\n",
       "      <th>...</th>\n",
       "      <td>...</td>\n",
       "      <td>...</td>\n",
       "      <td>...</td>\n",
       "      <td>...</td>\n",
       "      <td>...</td>\n",
       "      <td>...</td>\n",
       "      <td>...</td>\n",
       "      <td>...</td>\n",
       "    </tr>\n",
       "    <tr>\n",
       "      <th>2596</th>\n",
       "      <td>0.5</td>\n",
       "      <td>4.2</td>\n",
       "      <td>None</td>\n",
       "      <td>-2.253264e-10</td>\n",
       "      <td>4.170729e-11</td>\n",
       "      <td>None</td>\n",
       "      <td>-8.991833e-11</td>\n",
       "      <td>5.455563e-12</td>\n",
       "    </tr>\n",
       "    <tr>\n",
       "      <th>2597</th>\n",
       "      <td>0.5</td>\n",
       "      <td>4.4</td>\n",
       "      <td>None</td>\n",
       "      <td>-2.189235e-10</td>\n",
       "      <td>3.991267e-11</td>\n",
       "      <td>None</td>\n",
       "      <td>-8.927145e-11</td>\n",
       "      <td>7.259038e-12</td>\n",
       "    </tr>\n",
       "    <tr>\n",
       "      <th>2598</th>\n",
       "      <td>0.5</td>\n",
       "      <td>4.6</td>\n",
       "      <td>None</td>\n",
       "      <td>-2.107745e-10</td>\n",
       "      <td>3.300379e-11</td>\n",
       "      <td>None</td>\n",
       "      <td>-8.884285e-11</td>\n",
       "      <td>8.027537e-12</td>\n",
       "    </tr>\n",
       "    <tr>\n",
       "      <th>2599</th>\n",
       "      <td>0.5</td>\n",
       "      <td>4.8</td>\n",
       "      <td>None</td>\n",
       "      <td>-1.918570e-10</td>\n",
       "      <td>4.136225e-11</td>\n",
       "      <td>None</td>\n",
       "      <td>-8.861093e-11</td>\n",
       "      <td>7.248349e-12</td>\n",
       "    </tr>\n",
       "    <tr>\n",
       "      <th>2600</th>\n",
       "      <td>0.5</td>\n",
       "      <td>5.0</td>\n",
       "      <td>None</td>\n",
       "      <td>-2.119386e-10</td>\n",
       "      <td>3.769905e-11</td>\n",
       "      <td>None</td>\n",
       "      <td>-8.757979e-11</td>\n",
       "      <td>7.060049e-12</td>\n",
       "    </tr>\n",
       "  </tbody>\n",
       "</table>\n",
       "<p>2601 rows × 8 columns</p>\n",
       "</div>"
      ],
      "text/plain": [
       "      voltage  secondary voltage voltage sd       current    current sd  \\\n",
       "0        -0.5               -5.0       None  9.219635e-11  4.389127e-11   \n",
       "1        -0.5               -4.8       None  6.192835e-11  4.350752e-11   \n",
       "2        -0.5               -4.6       None  7.065955e-11  4.511022e-11   \n",
       "3        -0.5               -4.4       None  6.687605e-11  4.340416e-11   \n",
       "4        -0.5               -4.2       None  7.124165e-11  4.255312e-11   \n",
       "...       ...                ...        ...           ...           ...   \n",
       "2596      0.5                4.2       None -2.253264e-10  4.170729e-11   \n",
       "2597      0.5                4.4       None -2.189235e-10  3.991267e-11   \n",
       "2598      0.5                4.6       None -2.107745e-10  3.300379e-11   \n",
       "2599      0.5                4.8       None -1.918570e-10  4.136225e-11   \n",
       "2600      0.5                5.0       None -2.119386e-10  3.769905e-11   \n",
       "\n",
       "     secondary voltage sd  secondary current  secondary current sd  \n",
       "0                    None      -1.633043e-10          2.446024e-10  \n",
       "1                    None      -1.149374e-10          1.086787e-11  \n",
       "2                    None      -1.118190e-10          1.949572e-11  \n",
       "3                    None      -1.122760e-10          1.128309e-11  \n",
       "4                    None      -2.110266e-10          2.252820e-10  \n",
       "...                   ...                ...                   ...  \n",
       "2596                 None      -8.991833e-11          5.455563e-12  \n",
       "2597                 None      -8.927145e-11          7.259038e-12  \n",
       "2598                 None      -8.884285e-11          8.027537e-12  \n",
       "2599                 None      -8.861093e-11          7.248349e-12  \n",
       "2600                 None      -8.757979e-11          7.060049e-12  \n",
       "\n",
       "[2601 rows x 8 columns]"
      ]
     },
     "execution_count": 4,
     "metadata": {},
     "output_type": "execute_result"
    }
   ],
   "source": [
    "analysis.zero(inplace=True)"
   ]
  },
  {
   "cell_type": "markdown",
   "id": "136de4ec",
   "metadata": {},
   "source": [
    "### flip current if needed"
   ]
  },
  {
   "cell_type": "code",
   "execution_count": 5,
   "id": "6ef1f6b3",
   "metadata": {},
   "outputs": [
    {
     "data": {
      "text/html": [
       "<div>\n",
       "<style scoped>\n",
       "    .dataframe tbody tr th:only-of-type {\n",
       "        vertical-align: middle;\n",
       "    }\n",
       "\n",
       "    .dataframe tbody tr th {\n",
       "        vertical-align: top;\n",
       "    }\n",
       "\n",
       "    .dataframe thead th {\n",
       "        text-align: right;\n",
       "    }\n",
       "</style>\n",
       "<table border=\"1\" class=\"dataframe\">\n",
       "  <thead>\n",
       "    <tr style=\"text-align: right;\">\n",
       "      <th></th>\n",
       "      <th>voltage</th>\n",
       "      <th>secondary voltage</th>\n",
       "      <th>voltage sd</th>\n",
       "      <th>current</th>\n",
       "      <th>current sd</th>\n",
       "      <th>secondary voltage sd</th>\n",
       "      <th>secondary current</th>\n",
       "      <th>secondary current sd</th>\n",
       "    </tr>\n",
       "  </thead>\n",
       "  <tbody>\n",
       "    <tr>\n",
       "      <th>0</th>\n",
       "      <td>-0.5</td>\n",
       "      <td>-5.0</td>\n",
       "      <td>None</td>\n",
       "      <td>-9.219635e-11</td>\n",
       "      <td>4.389127e-11</td>\n",
       "      <td>None</td>\n",
       "      <td>-1.633043e-10</td>\n",
       "      <td>2.446024e-10</td>\n",
       "    </tr>\n",
       "    <tr>\n",
       "      <th>1</th>\n",
       "      <td>-0.5</td>\n",
       "      <td>-4.8</td>\n",
       "      <td>None</td>\n",
       "      <td>-6.192835e-11</td>\n",
       "      <td>4.350752e-11</td>\n",
       "      <td>None</td>\n",
       "      <td>-1.149374e-10</td>\n",
       "      <td>1.086787e-11</td>\n",
       "    </tr>\n",
       "    <tr>\n",
       "      <th>2</th>\n",
       "      <td>-0.5</td>\n",
       "      <td>-4.6</td>\n",
       "      <td>None</td>\n",
       "      <td>-7.065955e-11</td>\n",
       "      <td>4.511022e-11</td>\n",
       "      <td>None</td>\n",
       "      <td>-1.118190e-10</td>\n",
       "      <td>1.949572e-11</td>\n",
       "    </tr>\n",
       "    <tr>\n",
       "      <th>3</th>\n",
       "      <td>-0.5</td>\n",
       "      <td>-4.4</td>\n",
       "      <td>None</td>\n",
       "      <td>-6.687605e-11</td>\n",
       "      <td>4.340416e-11</td>\n",
       "      <td>None</td>\n",
       "      <td>-1.122760e-10</td>\n",
       "      <td>1.128309e-11</td>\n",
       "    </tr>\n",
       "    <tr>\n",
       "      <th>4</th>\n",
       "      <td>-0.5</td>\n",
       "      <td>-4.2</td>\n",
       "      <td>None</td>\n",
       "      <td>-7.124165e-11</td>\n",
       "      <td>4.255312e-11</td>\n",
       "      <td>None</td>\n",
       "      <td>-2.110266e-10</td>\n",
       "      <td>2.252820e-10</td>\n",
       "    </tr>\n",
       "    <tr>\n",
       "      <th>...</th>\n",
       "      <td>...</td>\n",
       "      <td>...</td>\n",
       "      <td>...</td>\n",
       "      <td>...</td>\n",
       "      <td>...</td>\n",
       "      <td>...</td>\n",
       "      <td>...</td>\n",
       "      <td>...</td>\n",
       "    </tr>\n",
       "    <tr>\n",
       "      <th>2596</th>\n",
       "      <td>0.5</td>\n",
       "      <td>4.2</td>\n",
       "      <td>None</td>\n",
       "      <td>2.253264e-10</td>\n",
       "      <td>4.170729e-11</td>\n",
       "      <td>None</td>\n",
       "      <td>-8.991833e-11</td>\n",
       "      <td>5.455563e-12</td>\n",
       "    </tr>\n",
       "    <tr>\n",
       "      <th>2597</th>\n",
       "      <td>0.5</td>\n",
       "      <td>4.4</td>\n",
       "      <td>None</td>\n",
       "      <td>2.189235e-10</td>\n",
       "      <td>3.991267e-11</td>\n",
       "      <td>None</td>\n",
       "      <td>-8.927145e-11</td>\n",
       "      <td>7.259038e-12</td>\n",
       "    </tr>\n",
       "    <tr>\n",
       "      <th>2598</th>\n",
       "      <td>0.5</td>\n",
       "      <td>4.6</td>\n",
       "      <td>None</td>\n",
       "      <td>2.107745e-10</td>\n",
       "      <td>3.300379e-11</td>\n",
       "      <td>None</td>\n",
       "      <td>-8.884285e-11</td>\n",
       "      <td>8.027537e-12</td>\n",
       "    </tr>\n",
       "    <tr>\n",
       "      <th>2599</th>\n",
       "      <td>0.5</td>\n",
       "      <td>4.8</td>\n",
       "      <td>None</td>\n",
       "      <td>1.918570e-10</td>\n",
       "      <td>4.136225e-11</td>\n",
       "      <td>None</td>\n",
       "      <td>-8.861093e-11</td>\n",
       "      <td>7.248349e-12</td>\n",
       "    </tr>\n",
       "    <tr>\n",
       "      <th>2600</th>\n",
       "      <td>0.5</td>\n",
       "      <td>5.0</td>\n",
       "      <td>None</td>\n",
       "      <td>2.119386e-10</td>\n",
       "      <td>3.769905e-11</td>\n",
       "      <td>None</td>\n",
       "      <td>-8.757979e-11</td>\n",
       "      <td>7.060049e-12</td>\n",
       "    </tr>\n",
       "  </tbody>\n",
       "</table>\n",
       "<p>2601 rows × 8 columns</p>\n",
       "</div>"
      ],
      "text/plain": [
       "      voltage  secondary voltage voltage sd       current    current sd  \\\n",
       "0        -0.5               -5.0       None -9.219635e-11  4.389127e-11   \n",
       "1        -0.5               -4.8       None -6.192835e-11  4.350752e-11   \n",
       "2        -0.5               -4.6       None -7.065955e-11  4.511022e-11   \n",
       "3        -0.5               -4.4       None -6.687605e-11  4.340416e-11   \n",
       "4        -0.5               -4.2       None -7.124165e-11  4.255312e-11   \n",
       "...       ...                ...        ...           ...           ...   \n",
       "2596      0.5                4.2       None  2.253264e-10  4.170729e-11   \n",
       "2597      0.5                4.4       None  2.189235e-10  3.991267e-11   \n",
       "2598      0.5                4.6       None  2.107745e-10  3.300379e-11   \n",
       "2599      0.5                4.8       None  1.918570e-10  4.136225e-11   \n",
       "2600      0.5                5.0       None  2.119386e-10  3.769905e-11   \n",
       "\n",
       "     secondary voltage sd  secondary current  secondary current sd  \n",
       "0                    None      -1.633043e-10          2.446024e-10  \n",
       "1                    None      -1.149374e-10          1.086787e-11  \n",
       "2                    None      -1.118190e-10          1.949572e-11  \n",
       "3                    None      -1.122760e-10          1.128309e-11  \n",
       "4                    None      -2.110266e-10          2.252820e-10  \n",
       "...                   ...                ...                   ...  \n",
       "2596                 None      -8.991833e-11          5.455563e-12  \n",
       "2597                 None      -8.927145e-11          7.259038e-12  \n",
       "2598                 None      -8.884285e-11          8.027537e-12  \n",
       "2599                 None      -8.861093e-11          7.248349e-12  \n",
       "2600                 None      -8.757979e-11          7.060049e-12  \n",
       "\n",
       "[2601 rows x 8 columns]"
      ]
     },
     "execution_count": 5,
     "metadata": {},
     "output_type": "execute_result"
    }
   ],
   "source": [
    "analysis.invert_current(inplace=True)"
   ]
  },
  {
   "cell_type": "markdown",
   "id": "3e6e6968",
   "metadata": {},
   "source": [
    "### show plot"
   ]
  },
  {
   "cell_type": "code",
   "execution_count": 6,
   "id": "6674c0b2",
   "metadata": {},
   "outputs": [
    {
     "ename": "TypeError",
     "evalue": "unsupported operand type(s) for ** or pow(): 'NoneType' and 'float'",
     "output_type": "error",
     "traceback": [
      "\u001b[1;31m---------------------------------------------------------------------------\u001b[0m",
      "\u001b[1;31mTypeError\u001b[0m                                 Traceback (most recent call last)",
      "Input \u001b[1;32mIn [6]\u001b[0m, in \u001b[0;36m<cell line: 1>\u001b[1;34m()\u001b[0m\n\u001b[1;32m----> 1\u001b[0m \u001b[43manalysis\u001b[49m\u001b[38;5;241;43m.\u001b[39;49m\u001b[43mplot\u001b[49m\u001b[43m(\u001b[49m\u001b[43mpath\u001b[49m\u001b[38;5;241;43m=\u001b[39;49m\u001b[43mdata_folder\u001b[49m\u001b[43m \u001b[49m\u001b[38;5;241;43m/\u001b[39;49m\u001b[43m \u001b[49m\u001b[38;5;124;43m'\u001b[39;49m\u001b[38;5;124;43mfig(2 flipped and zeroed).png\u001b[39;49m\u001b[38;5;124;43m'\u001b[39;49m\u001b[43m)\u001b[49m\n",
      "File \u001b[1;32m~\\PycharmProjects\\UW-Platteville-Nanolab-Keithley\\data_analysis.py:182\u001b[0m, in \u001b[0;36mAnalysis.plot\u001b[1;34m(self, path, current_name, line_cmap, heat_cmap, shading, width, height, dpi)\u001b[0m\n\u001b[0;32m    180\u001b[0m cb\u001b[38;5;241m.\u001b[39moutline\u001b[38;5;241m.\u001b[39mset_linewidth(\u001b[38;5;241m0\u001b[39m)\n\u001b[0;32m    181\u001b[0m \u001b[38;5;66;03m# fowler nordheim\u001b[39;00m\n\u001b[1;32m--> 182\u001b[0m g \u001b[38;5;241m=\u001b[39m lineplot(ax\u001b[38;5;241m=\u001b[39maxs[\u001b[38;5;241m1\u001b[39m, \u001b[38;5;241m0\u001b[39m], x\u001b[38;5;241m=\u001b[39m\u001b[38;5;124m'\u001b[39m\u001b[38;5;124mfn_x\u001b[39m\u001b[38;5;124m'\u001b[39m, y\u001b[38;5;241m=\u001b[39m\u001b[38;5;124m'\u001b[39m\u001b[38;5;124mfn_y\u001b[39m\u001b[38;5;124m'\u001b[39m, hue\u001b[38;5;241m=\u001b[39m\u001b[38;5;124m'\u001b[39m\u001b[38;5;124msecondary voltage\u001b[39m\u001b[38;5;124m'\u001b[39m, data\u001b[38;5;241m=\u001b[39m\u001b[38;5;28;43mself\u001b[39;49m\u001b[38;5;241;43m.\u001b[39;49m\u001b[43mfowler_nordheim_transform\u001b[49m\u001b[43m(\u001b[49m\u001b[43mcurrent_name\u001b[49m\u001b[38;5;241;43m=\u001b[39;49m\u001b[43mcurrent_name\u001b[49m\u001b[43m)\u001b[49m, ci\u001b[38;5;241m=\u001b[39m\u001b[38;5;28;01mNone\u001b[39;00m, legend\u001b[38;5;241m=\u001b[39m\u001b[38;5;28;01mFalse\u001b[39;00m, palette\u001b[38;5;241m=\u001b[39mline_cmap)\n\u001b[0;32m    183\u001b[0m g\u001b[38;5;241m.\u001b[39mset_title(\u001b[38;5;124m'\u001b[39m\u001b[38;5;124mFowler Nordheim\u001b[39m\u001b[38;5;124m'\u001b[39m)\n\u001b[0;32m    184\u001b[0m \u001b[38;5;66;03m# voltage heatmap\u001b[39;00m\n",
      "File \u001b[1;32m~\\PycharmProjects\\UW-Platteville-Nanolab-Keithley\\data_analysis.py:156\u001b[0m, in \u001b[0;36mAnalysis.fowler_nordheim_transform\u001b[1;34m(self, voltage_name, current_name)\u001b[0m\n\u001b[0;32m    151\u001b[0m         \u001b[38;5;28;01mreturn\u001b[39;00m \u001b[38;5;28;01mNone\u001b[39;00m\n\u001b[0;32m    153\u001b[0m \u001b[38;5;66;03m# apply transforms\u001b[39;00m\n\u001b[0;32m    154\u001b[0m out \u001b[38;5;241m=\u001b[39m DataFrame({\n\u001b[0;32m    155\u001b[0m     \u001b[38;5;124m'\u001b[39m\u001b[38;5;124mfn_x\u001b[39m\u001b[38;5;124m'\u001b[39m: \u001b[38;5;28mself\u001b[39m\u001b[38;5;241m.\u001b[39mapply(\u001b[38;5;28;01mlambda\u001b[39;00m x: x_transform(x[voltage_name]), axis\u001b[38;5;241m=\u001b[39m\u001b[38;5;241m1\u001b[39m),\n\u001b[1;32m--> 156\u001b[0m     \u001b[38;5;124m'\u001b[39m\u001b[38;5;124mfn_x SD\u001b[39m\u001b[38;5;124m'\u001b[39m: \u001b[38;5;28;43mself\u001b[39;49m\u001b[38;5;241;43m.\u001b[39;49m\u001b[43mapply\u001b[49m\u001b[43m(\u001b[49m\u001b[38;5;28;43;01mlambda\u001b[39;49;00m\u001b[43m \u001b[49m\u001b[43mx\u001b[49m\u001b[43m:\u001b[49m\u001b[43m \u001b[49m\u001b[43mx_sd\u001b[49m\u001b[43m(\u001b[49m\u001b[43mx\u001b[49m\u001b[43m[\u001b[49m\u001b[43mvoltage_name\u001b[49m\u001b[43m]\u001b[49m\u001b[43m,\u001b[49m\u001b[43m \u001b[49m\u001b[43mx\u001b[49m\u001b[43m[\u001b[49m\u001b[38;5;124;43mf\u001b[39;49m\u001b[38;5;124;43m'\u001b[39;49m\u001b[38;5;132;43;01m{\u001b[39;49;00m\u001b[43mvoltage_name\u001b[49m\u001b[38;5;132;43;01m}\u001b[39;49;00m\u001b[38;5;124;43m sd\u001b[39;49m\u001b[38;5;124;43m'\u001b[39;49m\u001b[43m]\u001b[49m\u001b[43m)\u001b[49m\u001b[43m,\u001b[49m\u001b[43m \u001b[49m\u001b[43maxis\u001b[49m\u001b[38;5;241;43m=\u001b[39;49m\u001b[38;5;241;43m1\u001b[39;49m\u001b[43m)\u001b[49m,\n\u001b[0;32m    157\u001b[0m     \u001b[38;5;124m'\u001b[39m\u001b[38;5;124mfn_y\u001b[39m\u001b[38;5;124m'\u001b[39m: \u001b[38;5;28mself\u001b[39m\u001b[38;5;241m.\u001b[39mapply(\u001b[38;5;28;01mlambda\u001b[39;00m x: y_transform(x[voltage_name], x[current_name]), axis\u001b[38;5;241m=\u001b[39m\u001b[38;5;241m1\u001b[39m),\n\u001b[0;32m    158\u001b[0m     \u001b[38;5;124m'\u001b[39m\u001b[38;5;124mfn_y SD\u001b[39m\u001b[38;5;124m'\u001b[39m: \u001b[38;5;28mself\u001b[39m\u001b[38;5;241m.\u001b[39mapply(\u001b[38;5;28;01mlambda\u001b[39;00m x: y_sd(x[current_name], x[\u001b[38;5;124mf\u001b[39m\u001b[38;5;124m'\u001b[39m\u001b[38;5;132;01m{\u001b[39;00mcurrent_name\u001b[38;5;132;01m}\u001b[39;00m\u001b[38;5;124m sd\u001b[39m\u001b[38;5;124m'\u001b[39m], x[voltage_name], x[\u001b[38;5;124mf\u001b[39m\u001b[38;5;124m'\u001b[39m\u001b[38;5;132;01m{\u001b[39;00mvoltage_name\u001b[38;5;132;01m}\u001b[39;00m\u001b[38;5;124m sd\u001b[39m\u001b[38;5;124m'\u001b[39m]), axis\u001b[38;5;241m=\u001b[39m\u001b[38;5;241m1\u001b[39m)\n\u001b[0;32m    159\u001b[0m })\n\u001b[0;32m    160\u001b[0m \u001b[38;5;28;01mif\u001b[39;00m \u001b[38;5;124m'\u001b[39m\u001b[38;5;124msecondary voltage\u001b[39m\u001b[38;5;124m'\u001b[39m \u001b[38;5;129;01min\u001b[39;00m \u001b[38;5;28mself\u001b[39m:\n\u001b[0;32m    161\u001b[0m     out[\u001b[38;5;124m'\u001b[39m\u001b[38;5;124msecondary voltage\u001b[39m\u001b[38;5;124m'\u001b[39m] \u001b[38;5;241m=\u001b[39m \u001b[38;5;28mself\u001b[39m[\u001b[38;5;124m'\u001b[39m\u001b[38;5;124msecondary voltage\u001b[39m\u001b[38;5;124m'\u001b[39m]\n",
      "File \u001b[1;32m~\\AppData\\Local\\Programs\\Python\\Python310\\lib\\site-packages\\pandas\\core\\frame.py:8833\u001b[0m, in \u001b[0;36mDataFrame.apply\u001b[1;34m(self, func, axis, raw, result_type, args, **kwargs)\u001b[0m\n\u001b[0;32m   8822\u001b[0m \u001b[38;5;28;01mfrom\u001b[39;00m \u001b[38;5;21;01mpandas\u001b[39;00m\u001b[38;5;21;01m.\u001b[39;00m\u001b[38;5;21;01mcore\u001b[39;00m\u001b[38;5;21;01m.\u001b[39;00m\u001b[38;5;21;01mapply\u001b[39;00m \u001b[38;5;28;01mimport\u001b[39;00m frame_apply\n\u001b[0;32m   8824\u001b[0m op \u001b[38;5;241m=\u001b[39m frame_apply(\n\u001b[0;32m   8825\u001b[0m     \u001b[38;5;28mself\u001b[39m,\n\u001b[0;32m   8826\u001b[0m     func\u001b[38;5;241m=\u001b[39mfunc,\n\u001b[1;32m   (...)\u001b[0m\n\u001b[0;32m   8831\u001b[0m     kwargs\u001b[38;5;241m=\u001b[39mkwargs,\n\u001b[0;32m   8832\u001b[0m )\n\u001b[1;32m-> 8833\u001b[0m \u001b[38;5;28;01mreturn\u001b[39;00m \u001b[43mop\u001b[49m\u001b[38;5;241;43m.\u001b[39;49m\u001b[43mapply\u001b[49m\u001b[43m(\u001b[49m\u001b[43m)\u001b[49m\u001b[38;5;241m.\u001b[39m__finalize__(\u001b[38;5;28mself\u001b[39m, method\u001b[38;5;241m=\u001b[39m\u001b[38;5;124m\"\u001b[39m\u001b[38;5;124mapply\u001b[39m\u001b[38;5;124m\"\u001b[39m)\n",
      "File \u001b[1;32m~\\AppData\\Local\\Programs\\Python\\Python310\\lib\\site-packages\\pandas\\core\\apply.py:727\u001b[0m, in \u001b[0;36mFrameApply.apply\u001b[1;34m(self)\u001b[0m\n\u001b[0;32m    724\u001b[0m \u001b[38;5;28;01melif\u001b[39;00m \u001b[38;5;28mself\u001b[39m\u001b[38;5;241m.\u001b[39mraw:\n\u001b[0;32m    725\u001b[0m     \u001b[38;5;28;01mreturn\u001b[39;00m \u001b[38;5;28mself\u001b[39m\u001b[38;5;241m.\u001b[39mapply_raw()\n\u001b[1;32m--> 727\u001b[0m \u001b[38;5;28;01mreturn\u001b[39;00m \u001b[38;5;28;43mself\u001b[39;49m\u001b[38;5;241;43m.\u001b[39;49m\u001b[43mapply_standard\u001b[49m\u001b[43m(\u001b[49m\u001b[43m)\u001b[49m\n",
      "File \u001b[1;32m~\\AppData\\Local\\Programs\\Python\\Python310\\lib\\site-packages\\pandas\\core\\apply.py:851\u001b[0m, in \u001b[0;36mFrameApply.apply_standard\u001b[1;34m(self)\u001b[0m\n\u001b[0;32m    850\u001b[0m \u001b[38;5;28;01mdef\u001b[39;00m \u001b[38;5;21mapply_standard\u001b[39m(\u001b[38;5;28mself\u001b[39m):\n\u001b[1;32m--> 851\u001b[0m     results, res_index \u001b[38;5;241m=\u001b[39m \u001b[38;5;28;43mself\u001b[39;49m\u001b[38;5;241;43m.\u001b[39;49m\u001b[43mapply_series_generator\u001b[49m\u001b[43m(\u001b[49m\u001b[43m)\u001b[49m\n\u001b[0;32m    853\u001b[0m     \u001b[38;5;66;03m# wrap results\u001b[39;00m\n\u001b[0;32m    854\u001b[0m     \u001b[38;5;28;01mreturn\u001b[39;00m \u001b[38;5;28mself\u001b[39m\u001b[38;5;241m.\u001b[39mwrap_results(results, res_index)\n",
      "File \u001b[1;32m~\\AppData\\Local\\Programs\\Python\\Python310\\lib\\site-packages\\pandas\\core\\apply.py:867\u001b[0m, in \u001b[0;36mFrameApply.apply_series_generator\u001b[1;34m(self)\u001b[0m\n\u001b[0;32m    864\u001b[0m \u001b[38;5;28;01mwith\u001b[39;00m option_context(\u001b[38;5;124m\"\u001b[39m\u001b[38;5;124mmode.chained_assignment\u001b[39m\u001b[38;5;124m\"\u001b[39m, \u001b[38;5;28;01mNone\u001b[39;00m):\n\u001b[0;32m    865\u001b[0m     \u001b[38;5;28;01mfor\u001b[39;00m i, v \u001b[38;5;129;01min\u001b[39;00m \u001b[38;5;28menumerate\u001b[39m(series_gen):\n\u001b[0;32m    866\u001b[0m         \u001b[38;5;66;03m# ignore SettingWithCopy here in case the user mutates\u001b[39;00m\n\u001b[1;32m--> 867\u001b[0m         results[i] \u001b[38;5;241m=\u001b[39m \u001b[38;5;28;43mself\u001b[39;49m\u001b[38;5;241;43m.\u001b[39;49m\u001b[43mf\u001b[49m\u001b[43m(\u001b[49m\u001b[43mv\u001b[49m\u001b[43m)\u001b[49m\n\u001b[0;32m    868\u001b[0m         \u001b[38;5;28;01mif\u001b[39;00m \u001b[38;5;28misinstance\u001b[39m(results[i], ABCSeries):\n\u001b[0;32m    869\u001b[0m             \u001b[38;5;66;03m# If we have a view on v, we need to make a copy because\u001b[39;00m\n\u001b[0;32m    870\u001b[0m             \u001b[38;5;66;03m#  series_generator will swap out the underlying data\u001b[39;00m\n\u001b[0;32m    871\u001b[0m             results[i] \u001b[38;5;241m=\u001b[39m results[i]\u001b[38;5;241m.\u001b[39mcopy(deep\u001b[38;5;241m=\u001b[39m\u001b[38;5;28;01mFalse\u001b[39;00m)\n",
      "File \u001b[1;32m~\\PycharmProjects\\UW-Platteville-Nanolab-Keithley\\data_analysis.py:156\u001b[0m, in \u001b[0;36mAnalysis.fowler_nordheim_transform.<locals>.<lambda>\u001b[1;34m(x)\u001b[0m\n\u001b[0;32m    151\u001b[0m         \u001b[38;5;28;01mreturn\u001b[39;00m \u001b[38;5;28;01mNone\u001b[39;00m\n\u001b[0;32m    153\u001b[0m \u001b[38;5;66;03m# apply transforms\u001b[39;00m\n\u001b[0;32m    154\u001b[0m out \u001b[38;5;241m=\u001b[39m DataFrame({\n\u001b[0;32m    155\u001b[0m     \u001b[38;5;124m'\u001b[39m\u001b[38;5;124mfn_x\u001b[39m\u001b[38;5;124m'\u001b[39m: \u001b[38;5;28mself\u001b[39m\u001b[38;5;241m.\u001b[39mapply(\u001b[38;5;28;01mlambda\u001b[39;00m x: x_transform(x[voltage_name]), axis\u001b[38;5;241m=\u001b[39m\u001b[38;5;241m1\u001b[39m),\n\u001b[1;32m--> 156\u001b[0m     \u001b[38;5;124m'\u001b[39m\u001b[38;5;124mfn_x SD\u001b[39m\u001b[38;5;124m'\u001b[39m: \u001b[38;5;28mself\u001b[39m\u001b[38;5;241m.\u001b[39mapply(\u001b[38;5;28;01mlambda\u001b[39;00m x: \u001b[43mx_sd\u001b[49m\u001b[43m(\u001b[49m\u001b[43mx\u001b[49m\u001b[43m[\u001b[49m\u001b[43mvoltage_name\u001b[49m\u001b[43m]\u001b[49m\u001b[43m,\u001b[49m\u001b[43m \u001b[49m\u001b[43mx\u001b[49m\u001b[43m[\u001b[49m\u001b[38;5;124;43mf\u001b[39;49m\u001b[38;5;124;43m'\u001b[39;49m\u001b[38;5;132;43;01m{\u001b[39;49;00m\u001b[43mvoltage_name\u001b[49m\u001b[38;5;132;43;01m}\u001b[39;49;00m\u001b[38;5;124;43m sd\u001b[39;49m\u001b[38;5;124;43m'\u001b[39;49m\u001b[43m]\u001b[49m\u001b[43m)\u001b[49m, axis\u001b[38;5;241m=\u001b[39m\u001b[38;5;241m1\u001b[39m),\n\u001b[0;32m    157\u001b[0m     \u001b[38;5;124m'\u001b[39m\u001b[38;5;124mfn_y\u001b[39m\u001b[38;5;124m'\u001b[39m: \u001b[38;5;28mself\u001b[39m\u001b[38;5;241m.\u001b[39mapply(\u001b[38;5;28;01mlambda\u001b[39;00m x: y_transform(x[voltage_name], x[current_name]), axis\u001b[38;5;241m=\u001b[39m\u001b[38;5;241m1\u001b[39m),\n\u001b[0;32m    158\u001b[0m     \u001b[38;5;124m'\u001b[39m\u001b[38;5;124mfn_y SD\u001b[39m\u001b[38;5;124m'\u001b[39m: \u001b[38;5;28mself\u001b[39m\u001b[38;5;241m.\u001b[39mapply(\u001b[38;5;28;01mlambda\u001b[39;00m x: y_sd(x[current_name], x[\u001b[38;5;124mf\u001b[39m\u001b[38;5;124m'\u001b[39m\u001b[38;5;132;01m{\u001b[39;00mcurrent_name\u001b[38;5;132;01m}\u001b[39;00m\u001b[38;5;124m sd\u001b[39m\u001b[38;5;124m'\u001b[39m], x[voltage_name], x[\u001b[38;5;124mf\u001b[39m\u001b[38;5;124m'\u001b[39m\u001b[38;5;132;01m{\u001b[39;00mvoltage_name\u001b[38;5;132;01m}\u001b[39;00m\u001b[38;5;124m sd\u001b[39m\u001b[38;5;124m'\u001b[39m]), axis\u001b[38;5;241m=\u001b[39m\u001b[38;5;241m1\u001b[39m)\n\u001b[0;32m    159\u001b[0m })\n\u001b[0;32m    160\u001b[0m \u001b[38;5;28;01mif\u001b[39;00m \u001b[38;5;124m'\u001b[39m\u001b[38;5;124msecondary voltage\u001b[39m\u001b[38;5;124m'\u001b[39m \u001b[38;5;129;01min\u001b[39;00m \u001b[38;5;28mself\u001b[39m:\n\u001b[0;32m    161\u001b[0m     out[\u001b[38;5;124m'\u001b[39m\u001b[38;5;124msecondary voltage\u001b[39m\u001b[38;5;124m'\u001b[39m] \u001b[38;5;241m=\u001b[39m \u001b[38;5;28mself\u001b[39m[\u001b[38;5;124m'\u001b[39m\u001b[38;5;124msecondary voltage\u001b[39m\u001b[38;5;124m'\u001b[39m]\n",
      "File \u001b[1;32m~\\PycharmProjects\\UW-Platteville-Nanolab-Keithley\\data_analysis.py:136\u001b[0m, in \u001b[0;36mAnalysis.fowler_nordheim_transform.<locals>.x_sd\u001b[1;34m(voltage, voltage_sd)\u001b[0m\n\u001b[0;32m    134\u001b[0m \u001b[38;5;28;01mdef\u001b[39;00m \u001b[38;5;21mx_sd\u001b[39m(voltage, voltage_sd):\n\u001b[0;32m    135\u001b[0m     \u001b[38;5;28;01mtry\u001b[39;00m:\n\u001b[1;32m--> 136\u001b[0m         \u001b[38;5;28;01mreturn\u001b[39;00m \u001b[38;5;241m1\u001b[39m \u001b[38;5;241m/\u001b[39m voltage \u001b[38;5;241m*\u001b[39m \u001b[43mvoltage_sd\u001b[49m\u001b[43m \u001b[49m\u001b[38;5;241;43m*\u001b[39;49m\u001b[38;5;241;43m*\u001b[39;49m\u001b[43m \u001b[49m\u001b[38;5;241;43m0.5\u001b[39;49m\n\u001b[0;32m    137\u001b[0m     \u001b[38;5;28;01mexcept\u001b[39;00m \u001b[38;5;167;01mZeroDivisionError\u001b[39;00m:\n\u001b[0;32m    138\u001b[0m         \u001b[38;5;28;01mreturn\u001b[39;00m \u001b[38;5;28;01mNone\u001b[39;00m\n",
      "\u001b[1;31mTypeError\u001b[0m: unsupported operand type(s) for ** or pow(): 'NoneType' and 'float'"
     ]
    },
    {
     "data": {
      "image/png": "[encoded data removed]",
      "text/plain": [
       "<Figure size 432x288 with 6 Axes>"
      ]
     },
     "metadata": {
      "needs_background": "light"
     },
     "output_type": "display_data"
    }
   ],
   "source": [
    "\n",
    "analysis.plot(path=data_folder / 'fig(2 flipped and zeroed).png')"
   ]
  },
  {
   "cell_type": "markdown",
   "id": "5a41e467",
   "metadata": {},
   "source": [
    "### switching current factor"
   ]
  },
  {
   "cell_type": "code",
   "execution_count": null,
   "id": "9b95d003",
   "metadata": {},
   "outputs": [],
   "source": [
    "print(analysis.switching_current())"
   ]
  },
  {
   "cell_type": "markdown",
   "id": "cff3afe2",
   "metadata": {},
   "source": [
    "### export dataframe\n",
    "- csv: generally bad unless you will never use program again and don't have Excel\n",
    "- xlsx: generally bad unless you will never use program again\n",
    "- pkl: generally good, but bigger than feather. Only readable by python\n",
    "- parquet: Excellent for archiving, readable by some programs (not Excel)\n",
    "- fea: Excellent for caching, readable by some programs (not Excel)\n",
    "\n",
    "use da.to_excel for saving multiple sheets in one Excel doc"
   ]
  },
  {
   "cell_type": "code",
   "execution_count": null,
   "id": "648ec576",
   "metadata": {},
   "outputs": [],
   "source": [
    "analysis.write(data_folder / 'output(2).parquet')"
   ]
  },
  {
   "cell_type": "markdown",
   "id": "98107eb9",
   "metadata": {},
   "source": [
    "### save all data for viewing"
   ]
  },
  {
   "cell_type": "code",
   "execution_count": null,
   "id": "8ff4c5ac",
   "metadata": {},
   "outputs": [],
   "source": [
    "if 'secondary voltage' in analysis:\n",
    "    da.to_excel(data_folder / 'output1.xlsx', by_primary=analysis.set_index(['voltage', 'secondary voltage']), by_secondary=analysis.sort_values(['secondary voltage', 'voltage']).set_index(['secondary voltage', 'voltage']), fn=analysis.fowler_nordheim_transform(), switching=analysis.switching_current())\n",
    "else:\n",
    "    da.to_excel(data_folder / 'output1.xlsx', by_voltage=analysis, by_current=analysis.sort_values(['current', 'voltage']), fn=analysis.fowler_nordheim_transform())"
   ]
  }
 ],
 "metadata": {
  "kernelspec": {
   "display_name": "Python 3 (ipykernel)",
   "language": "python",
   "name": "python3"
  },
  "language_info": {
   "codemirror_mode": {
    "name": "ipython",
    "version": 3
   },
   "file_extension": ".py",
   "mimetype": "text/x-python",
   "name": "python",
   "nbconvert_exporter": "python",
   "pygments_lexer": "ipython3",
   "version": "3.10.2"
  }
 },
 "nbformat": 4,
 "nbformat_minor": 5
}
